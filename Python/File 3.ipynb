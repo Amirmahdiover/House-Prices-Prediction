{
 "cells": [
  {
   "cell_type": "markdown",
   "source": [
    "## Importing Libraries"
   ],
   "metadata": {
    "collapsed": false
   },
   "id": "d08fefbb4cf5a892"
  },
  {
   "cell_type": "code",
   "outputs": [],
   "source": [
    "import math\n",
    "\n",
    "import pandas as pd\n",
    "import numpy as np\n",
    "import matplotlib.pyplot as plt\n",
    "import seaborn as sns\n",
    "\n",
    "sns.set()"
   ],
   "metadata": {
    "collapsed": false,
    "ExecuteTime": {
     "end_time": "2025-02-09T13:59:47.483163Z",
     "start_time": "2025-02-09T13:59:47.479996Z"
    }
   },
   "id": "55dacc2f66e43e67",
   "execution_count": 1
  },
  {
   "cell_type": "markdown",
   "source": [
    "## Loading Dataset"
   ],
   "metadata": {
    "collapsed": false
   },
   "id": "48dc8e3a544cf8af"
  },
  {
   "cell_type": "code",
   "outputs": [],
   "source": [
    "train=pd.read_csv('../Dataset/merged_to_keep_features.csv')"
   ],
   "metadata": {
    "collapsed": false,
    "ExecuteTime": {
     "end_time": "2025-02-09T13:59:47.501086Z",
     "start_time": "2025-02-09T13:59:47.484162Z"
    }
   },
   "id": "6dce4f64565d7b93",
   "execution_count": 2
  },
  {
   "cell_type": "markdown",
   "source": [
    "## Building the model"
   ],
   "metadata": {
    "collapsed": false
   },
   "id": "68260835305fac5f"
  },
  {
   "cell_type": "code",
   "outputs": [
    {
     "data": {
      "text/plain": "      Unnamed: 0    Id  ExterQual_Fa  ExterQual_Gd  ExterQual_TA  \\\n0              0     1         False          True         False   \n1              1     2         False         False          True   \n2              2     3         False          True         False   \n3              3     4         False         False          True   \n4              4     5         False          True         False   \n...          ...   ...           ...           ...           ...   \n1455        1455  1456         False         False          True   \n1456        1456  1457         False         False          True   \n1457        1457  1458         False         False         False   \n1458        1458  1459         False         False          True   \n1459        1459  1460         False          True         False   \n\n      KitchenQual_Fa  KitchenQual_Gd  KitchenQual_TA  BsmtQual_Fa  \\\n0              False            True           False        False   \n1              False           False            True        False   \n2              False            True           False        False   \n3              False            True           False        False   \n4              False            True           False        False   \n...              ...             ...             ...          ...   \n1455           False           False            True        False   \n1456           False           False            True        False   \n1457           False            True           False        False   \n1458           False            True           False        False   \n1459           False           False            True        False   \n\n      BsmtQual_Gd  BsmtQual_TA  BsmtQual_noBasement  GarageFinish_RFn  \\\n0            True        False                False              True   \n1            True        False                False              True   \n2            True        False                False              True   \n3           False         True                False             False   \n4            True        False                False              True   \n...           ...          ...                  ...               ...   \n1455         True        False                False              True   \n1456         True        False                False             False   \n1457        False         True                False              True   \n1458        False         True                False             False   \n1459        False         True                False             False   \n\n      GarageFinish_Unf  GarageFinish_noGarage  OverallQual  GrLivArea  \\\n0                False                  False            7       1710   \n1                False                  False            6       1262   \n2                False                  False            7       1786   \n3                 True                  False            7       1717   \n4                False                  False            8       2198   \n...                ...                    ...          ...        ...   \n1455             False                  False            6       1647   \n1456              True                  False            6       2073   \n1457             False                  False            7       2340   \n1458              True                  False            5       1078   \n1459             False                  False            5       1256   \n\n      GarageArea  SalePrice-noSkew  \n0            548         12.247699  \n1            460         12.109016  \n2            608         12.317171  \n3            642         11.849405  \n4            836         12.429220  \n...          ...               ...  \n1455         460         12.072547  \n1456         500         12.254868  \n1457         252         12.493133  \n1458         240         11.864469  \n1459         276         11.901590  \n\n[1460 rows x 19 columns]",
      "text/html": "<div>\n<style scoped>\n    .dataframe tbody tr th:only-of-type {\n        vertical-align: middle;\n    }\n\n    .dataframe tbody tr th {\n        vertical-align: top;\n    }\n\n    .dataframe thead th {\n        text-align: right;\n    }\n</style>\n<table border=\"1\" class=\"dataframe\">\n  <thead>\n    <tr style=\"text-align: right;\">\n      <th></th>\n      <th>Unnamed: 0</th>\n      <th>Id</th>\n      <th>ExterQual_Fa</th>\n      <th>ExterQual_Gd</th>\n      <th>ExterQual_TA</th>\n      <th>KitchenQual_Fa</th>\n      <th>KitchenQual_Gd</th>\n      <th>KitchenQual_TA</th>\n      <th>BsmtQual_Fa</th>\n      <th>BsmtQual_Gd</th>\n      <th>BsmtQual_TA</th>\n      <th>BsmtQual_noBasement</th>\n      <th>GarageFinish_RFn</th>\n      <th>GarageFinish_Unf</th>\n      <th>GarageFinish_noGarage</th>\n      <th>OverallQual</th>\n      <th>GrLivArea</th>\n      <th>GarageArea</th>\n      <th>SalePrice-noSkew</th>\n    </tr>\n  </thead>\n  <tbody>\n    <tr>\n      <th>0</th>\n      <td>0</td>\n      <td>1</td>\n      <td>False</td>\n      <td>True</td>\n      <td>False</td>\n      <td>False</td>\n      <td>True</td>\n      <td>False</td>\n      <td>False</td>\n      <td>True</td>\n      <td>False</td>\n      <td>False</td>\n      <td>True</td>\n      <td>False</td>\n      <td>False</td>\n      <td>7</td>\n      <td>1710</td>\n      <td>548</td>\n      <td>12.247699</td>\n    </tr>\n    <tr>\n      <th>1</th>\n      <td>1</td>\n      <td>2</td>\n      <td>False</td>\n      <td>False</td>\n      <td>True</td>\n      <td>False</td>\n      <td>False</td>\n      <td>True</td>\n      <td>False</td>\n      <td>True</td>\n      <td>False</td>\n      <td>False</td>\n      <td>True</td>\n      <td>False</td>\n      <td>False</td>\n      <td>6</td>\n      <td>1262</td>\n      <td>460</td>\n      <td>12.109016</td>\n    </tr>\n    <tr>\n      <th>2</th>\n      <td>2</td>\n      <td>3</td>\n      <td>False</td>\n      <td>True</td>\n      <td>False</td>\n      <td>False</td>\n      <td>True</td>\n      <td>False</td>\n      <td>False</td>\n      <td>True</td>\n      <td>False</td>\n      <td>False</td>\n      <td>True</td>\n      <td>False</td>\n      <td>False</td>\n      <td>7</td>\n      <td>1786</td>\n      <td>608</td>\n      <td>12.317171</td>\n    </tr>\n    <tr>\n      <th>3</th>\n      <td>3</td>\n      <td>4</td>\n      <td>False</td>\n      <td>False</td>\n      <td>True</td>\n      <td>False</td>\n      <td>True</td>\n      <td>False</td>\n      <td>False</td>\n      <td>False</td>\n      <td>True</td>\n      <td>False</td>\n      <td>False</td>\n      <td>True</td>\n      <td>False</td>\n      <td>7</td>\n      <td>1717</td>\n      <td>642</td>\n      <td>11.849405</td>\n    </tr>\n    <tr>\n      <th>4</th>\n      <td>4</td>\n      <td>5</td>\n      <td>False</td>\n      <td>True</td>\n      <td>False</td>\n      <td>False</td>\n      <td>True</td>\n      <td>False</td>\n      <td>False</td>\n      <td>True</td>\n      <td>False</td>\n      <td>False</td>\n      <td>True</td>\n      <td>False</td>\n      <td>False</td>\n      <td>8</td>\n      <td>2198</td>\n      <td>836</td>\n      <td>12.429220</td>\n    </tr>\n    <tr>\n      <th>...</th>\n      <td>...</td>\n      <td>...</td>\n      <td>...</td>\n      <td>...</td>\n      <td>...</td>\n      <td>...</td>\n      <td>...</td>\n      <td>...</td>\n      <td>...</td>\n      <td>...</td>\n      <td>...</td>\n      <td>...</td>\n      <td>...</td>\n      <td>...</td>\n      <td>...</td>\n      <td>...</td>\n      <td>...</td>\n      <td>...</td>\n      <td>...</td>\n    </tr>\n    <tr>\n      <th>1455</th>\n      <td>1455</td>\n      <td>1456</td>\n      <td>False</td>\n      <td>False</td>\n      <td>True</td>\n      <td>False</td>\n      <td>False</td>\n      <td>True</td>\n      <td>False</td>\n      <td>True</td>\n      <td>False</td>\n      <td>False</td>\n      <td>True</td>\n      <td>False</td>\n      <td>False</td>\n      <td>6</td>\n      <td>1647</td>\n      <td>460</td>\n      <td>12.072547</td>\n    </tr>\n    <tr>\n      <th>1456</th>\n      <td>1456</td>\n      <td>1457</td>\n      <td>False</td>\n      <td>False</td>\n      <td>True</td>\n      <td>False</td>\n      <td>False</td>\n      <td>True</td>\n      <td>False</td>\n      <td>True</td>\n      <td>False</td>\n      <td>False</td>\n      <td>False</td>\n      <td>True</td>\n      <td>False</td>\n      <td>6</td>\n      <td>2073</td>\n      <td>500</td>\n      <td>12.254868</td>\n    </tr>\n    <tr>\n      <th>1457</th>\n      <td>1457</td>\n      <td>1458</td>\n      <td>False</td>\n      <td>False</td>\n      <td>False</td>\n      <td>False</td>\n      <td>True</td>\n      <td>False</td>\n      <td>False</td>\n      <td>False</td>\n      <td>True</td>\n      <td>False</td>\n      <td>True</td>\n      <td>False</td>\n      <td>False</td>\n      <td>7</td>\n      <td>2340</td>\n      <td>252</td>\n      <td>12.493133</td>\n    </tr>\n    <tr>\n      <th>1458</th>\n      <td>1458</td>\n      <td>1459</td>\n      <td>False</td>\n      <td>False</td>\n      <td>True</td>\n      <td>False</td>\n      <td>True</td>\n      <td>False</td>\n      <td>False</td>\n      <td>False</td>\n      <td>True</td>\n      <td>False</td>\n      <td>False</td>\n      <td>True</td>\n      <td>False</td>\n      <td>5</td>\n      <td>1078</td>\n      <td>240</td>\n      <td>11.864469</td>\n    </tr>\n    <tr>\n      <th>1459</th>\n      <td>1459</td>\n      <td>1460</td>\n      <td>False</td>\n      <td>True</td>\n      <td>False</td>\n      <td>False</td>\n      <td>False</td>\n      <td>True</td>\n      <td>False</td>\n      <td>False</td>\n      <td>True</td>\n      <td>False</td>\n      <td>False</td>\n      <td>False</td>\n      <td>False</td>\n      <td>5</td>\n      <td>1256</td>\n      <td>276</td>\n      <td>11.901590</td>\n    </tr>\n  </tbody>\n</table>\n<p>1460 rows × 19 columns</p>\n</div>"
     },
     "execution_count": 3,
     "metadata": {},
     "output_type": "execute_result"
    }
   ],
   "source": [
    "train"
   ],
   "metadata": {
    "collapsed": false,
    "ExecuteTime": {
     "end_time": "2025-02-09T13:59:47.517291Z",
     "start_time": "2025-02-09T13:59:47.501086Z"
    }
   },
   "id": "67088b6f0b5cada0",
   "execution_count": 3
  },
  {
   "cell_type": "code",
   "outputs": [],
   "source": [
    "train.drop(['Unnamed: 0','Id'],axis=1,inplace=True)"
   ],
   "metadata": {
    "collapsed": false,
    "ExecuteTime": {
     "end_time": "2025-02-09T13:59:47.521149Z",
     "start_time": "2025-02-09T13:59:47.517291Z"
    }
   },
   "id": "88e6a86708a330d4",
   "execution_count": 4
  },
  {
   "cell_type": "code",
   "outputs": [
    {
     "data": {
      "text/plain": "      ExterQual_Fa  ExterQual_Gd  ExterQual_TA  KitchenQual_Fa  \\\n0            False          True         False           False   \n1            False         False          True           False   \n2            False          True         False           False   \n3            False         False          True           False   \n4            False          True         False           False   \n...            ...           ...           ...             ...   \n1455         False         False          True           False   \n1456         False         False          True           False   \n1457         False         False         False           False   \n1458         False         False          True           False   \n1459         False          True         False           False   \n\n      KitchenQual_Gd  KitchenQual_TA  BsmtQual_Fa  BsmtQual_Gd  BsmtQual_TA  \\\n0               True           False        False         True        False   \n1              False            True        False         True        False   \n2               True           False        False         True        False   \n3               True           False        False        False         True   \n4               True           False        False         True        False   \n...              ...             ...          ...          ...          ...   \n1455           False            True        False         True        False   \n1456           False            True        False         True        False   \n1457            True           False        False        False         True   \n1458            True           False        False        False         True   \n1459           False            True        False        False         True   \n\n      BsmtQual_noBasement  GarageFinish_RFn  GarageFinish_Unf  \\\n0                   False              True             False   \n1                   False              True             False   \n2                   False              True             False   \n3                   False             False              True   \n4                   False              True             False   \n...                   ...               ...               ...   \n1455                False              True             False   \n1456                False             False              True   \n1457                False              True             False   \n1458                False             False              True   \n1459                False             False             False   \n\n      GarageFinish_noGarage  OverallQual  GrLivArea  GarageArea  \\\n0                     False            7       1710         548   \n1                     False            6       1262         460   \n2                     False            7       1786         608   \n3                     False            7       1717         642   \n4                     False            8       2198         836   \n...                     ...          ...        ...         ...   \n1455                  False            6       1647         460   \n1456                  False            6       2073         500   \n1457                  False            7       2340         252   \n1458                  False            5       1078         240   \n1459                  False            5       1256         276   \n\n      SalePrice-noSkew  \n0            12.247699  \n1            12.109016  \n2            12.317171  \n3            11.849405  \n4            12.429220  \n...                ...  \n1455         12.072547  \n1456         12.254868  \n1457         12.493133  \n1458         11.864469  \n1459         11.901590  \n\n[1460 rows x 17 columns]",
      "text/html": "<div>\n<style scoped>\n    .dataframe tbody tr th:only-of-type {\n        vertical-align: middle;\n    }\n\n    .dataframe tbody tr th {\n        vertical-align: top;\n    }\n\n    .dataframe thead th {\n        text-align: right;\n    }\n</style>\n<table border=\"1\" class=\"dataframe\">\n  <thead>\n    <tr style=\"text-align: right;\">\n      <th></th>\n      <th>ExterQual_Fa</th>\n      <th>ExterQual_Gd</th>\n      <th>ExterQual_TA</th>\n      <th>KitchenQual_Fa</th>\n      <th>KitchenQual_Gd</th>\n      <th>KitchenQual_TA</th>\n      <th>BsmtQual_Fa</th>\n      <th>BsmtQual_Gd</th>\n      <th>BsmtQual_TA</th>\n      <th>BsmtQual_noBasement</th>\n      <th>GarageFinish_RFn</th>\n      <th>GarageFinish_Unf</th>\n      <th>GarageFinish_noGarage</th>\n      <th>OverallQual</th>\n      <th>GrLivArea</th>\n      <th>GarageArea</th>\n      <th>SalePrice-noSkew</th>\n    </tr>\n  </thead>\n  <tbody>\n    <tr>\n      <th>0</th>\n      <td>False</td>\n      <td>True</td>\n      <td>False</td>\n      <td>False</td>\n      <td>True</td>\n      <td>False</td>\n      <td>False</td>\n      <td>True</td>\n      <td>False</td>\n      <td>False</td>\n      <td>True</td>\n      <td>False</td>\n      <td>False</td>\n      <td>7</td>\n      <td>1710</td>\n      <td>548</td>\n      <td>12.247699</td>\n    </tr>\n    <tr>\n      <th>1</th>\n      <td>False</td>\n      <td>False</td>\n      <td>True</td>\n      <td>False</td>\n      <td>False</td>\n      <td>True</td>\n      <td>False</td>\n      <td>True</td>\n      <td>False</td>\n      <td>False</td>\n      <td>True</td>\n      <td>False</td>\n      <td>False</td>\n      <td>6</td>\n      <td>1262</td>\n      <td>460</td>\n      <td>12.109016</td>\n    </tr>\n    <tr>\n      <th>2</th>\n      <td>False</td>\n      <td>True</td>\n      <td>False</td>\n      <td>False</td>\n      <td>True</td>\n      <td>False</td>\n      <td>False</td>\n      <td>True</td>\n      <td>False</td>\n      <td>False</td>\n      <td>True</td>\n      <td>False</td>\n      <td>False</td>\n      <td>7</td>\n      <td>1786</td>\n      <td>608</td>\n      <td>12.317171</td>\n    </tr>\n    <tr>\n      <th>3</th>\n      <td>False</td>\n      <td>False</td>\n      <td>True</td>\n      <td>False</td>\n      <td>True</td>\n      <td>False</td>\n      <td>False</td>\n      <td>False</td>\n      <td>True</td>\n      <td>False</td>\n      <td>False</td>\n      <td>True</td>\n      <td>False</td>\n      <td>7</td>\n      <td>1717</td>\n      <td>642</td>\n      <td>11.849405</td>\n    </tr>\n    <tr>\n      <th>4</th>\n      <td>False</td>\n      <td>True</td>\n      <td>False</td>\n      <td>False</td>\n      <td>True</td>\n      <td>False</td>\n      <td>False</td>\n      <td>True</td>\n      <td>False</td>\n      <td>False</td>\n      <td>True</td>\n      <td>False</td>\n      <td>False</td>\n      <td>8</td>\n      <td>2198</td>\n      <td>836</td>\n      <td>12.429220</td>\n    </tr>\n    <tr>\n      <th>...</th>\n      <td>...</td>\n      <td>...</td>\n      <td>...</td>\n      <td>...</td>\n      <td>...</td>\n      <td>...</td>\n      <td>...</td>\n      <td>...</td>\n      <td>...</td>\n      <td>...</td>\n      <td>...</td>\n      <td>...</td>\n      <td>...</td>\n      <td>...</td>\n      <td>...</td>\n      <td>...</td>\n      <td>...</td>\n    </tr>\n    <tr>\n      <th>1455</th>\n      <td>False</td>\n      <td>False</td>\n      <td>True</td>\n      <td>False</td>\n      <td>False</td>\n      <td>True</td>\n      <td>False</td>\n      <td>True</td>\n      <td>False</td>\n      <td>False</td>\n      <td>True</td>\n      <td>False</td>\n      <td>False</td>\n      <td>6</td>\n      <td>1647</td>\n      <td>460</td>\n      <td>12.072547</td>\n    </tr>\n    <tr>\n      <th>1456</th>\n      <td>False</td>\n      <td>False</td>\n      <td>True</td>\n      <td>False</td>\n      <td>False</td>\n      <td>True</td>\n      <td>False</td>\n      <td>True</td>\n      <td>False</td>\n      <td>False</td>\n      <td>False</td>\n      <td>True</td>\n      <td>False</td>\n      <td>6</td>\n      <td>2073</td>\n      <td>500</td>\n      <td>12.254868</td>\n    </tr>\n    <tr>\n      <th>1457</th>\n      <td>False</td>\n      <td>False</td>\n      <td>False</td>\n      <td>False</td>\n      <td>True</td>\n      <td>False</td>\n      <td>False</td>\n      <td>False</td>\n      <td>True</td>\n      <td>False</td>\n      <td>True</td>\n      <td>False</td>\n      <td>False</td>\n      <td>7</td>\n      <td>2340</td>\n      <td>252</td>\n      <td>12.493133</td>\n    </tr>\n    <tr>\n      <th>1458</th>\n      <td>False</td>\n      <td>False</td>\n      <td>True</td>\n      <td>False</td>\n      <td>True</td>\n      <td>False</td>\n      <td>False</td>\n      <td>False</td>\n      <td>True</td>\n      <td>False</td>\n      <td>False</td>\n      <td>True</td>\n      <td>False</td>\n      <td>5</td>\n      <td>1078</td>\n      <td>240</td>\n      <td>11.864469</td>\n    </tr>\n    <tr>\n      <th>1459</th>\n      <td>False</td>\n      <td>True</td>\n      <td>False</td>\n      <td>False</td>\n      <td>False</td>\n      <td>True</td>\n      <td>False</td>\n      <td>False</td>\n      <td>True</td>\n      <td>False</td>\n      <td>False</td>\n      <td>False</td>\n      <td>False</td>\n      <td>5</td>\n      <td>1256</td>\n      <td>276</td>\n      <td>11.901590</td>\n    </tr>\n  </tbody>\n</table>\n<p>1460 rows × 17 columns</p>\n</div>"
     },
     "execution_count": 5,
     "metadata": {},
     "output_type": "execute_result"
    }
   ],
   "source": [
    "train"
   ],
   "metadata": {
    "collapsed": false,
    "ExecuteTime": {
     "end_time": "2025-02-09T13:59:47.533277Z",
     "start_time": "2025-02-09T13:59:47.521149Z"
    }
   },
   "id": "9cf3aaa1cd0c1b43",
   "execution_count": 5
  },
  {
   "cell_type": "code",
   "outputs": [],
   "source": [
    "from sklearn.model_selection import train_test_split\n",
    "from sklearn.linear_model import LinearRegression"
   ],
   "metadata": {
    "collapsed": false,
    "ExecuteTime": {
     "end_time": "2025-02-09T13:59:48.356649Z",
     "start_time": "2025-02-09T13:59:47.535274Z"
    }
   },
   "id": "c8f70b194ca1289a",
   "execution_count": 6
  },
  {
   "cell_type": "code",
   "outputs": [],
   "source": [
    "regressor = LinearRegression()\n",
    "regressor\n",
    "x = train.drop('SalePrice-noSkew',axis=1)\n",
    "y = train['SalePrice-noSkew']\n",
    "x_train, x_test, y_train, y_test = train_test_split(x, y, test_size=0.25,random_state=42)"
   ],
   "metadata": {
    "collapsed": false,
    "ExecuteTime": {
     "end_time": "2025-02-09T13:59:48.361980Z",
     "start_time": "2025-02-09T13:59:48.356649Z"
    }
   },
   "id": "39bae3f2aaefb48d",
   "execution_count": 7
  },
  {
   "cell_type": "code",
   "execution_count": 8,
   "id": "initial_id",
   "metadata": {
    "collapsed": true,
    "ExecuteTime": {
     "end_time": "2025-02-09T13:59:48.388628Z",
     "start_time": "2025-02-09T13:59:48.361980Z"
    }
   },
   "outputs": [],
   "source": [
    "regressor.fit(x_train, y_train)\n",
    "y_pred = regressor.predict(x_test)"
   ]
  },
  {
   "cell_type": "code",
   "outputs": [
    {
     "data": {
      "text/plain": "892     11.947956\n1105    12.691584\n413     11.652696\n522     11.976666\n1036    12.661917\n          ...    \n988     12.180760\n243     11.695255\n1342    12.339296\n1057    12.421188\n1418    11.728045\nName: SalePrice-noSkew, Length: 365, dtype: float64"
     },
     "execution_count": 9,
     "metadata": {},
     "output_type": "execute_result"
    }
   ],
   "source": [
    "y_test"
   ],
   "metadata": {
    "collapsed": false,
    "ExecuteTime": {
     "end_time": "2025-02-09T13:59:48.393635Z",
     "start_time": "2025-02-09T13:59:48.388628Z"
    }
   },
   "id": "7d44a4ec3620c14b",
   "execution_count": 9
  },
  {
   "cell_type": "code",
   "outputs": [
    {
     "data": {
      "text/plain": "array([11.83280877, 12.69716253, 11.66928802, 11.91043674, 12.67545374,\n       11.39776024, 12.14111455, 11.94191057, 11.39776024, 11.73476417,\n       11.90080342, 11.71141784, 11.67111255, 12.2415967 , 12.09465981,\n       11.69893551, 12.26458728, 11.7603161 , 11.73685699, 12.23588952,\n       11.96814991, 12.37554921, 12.15173663, 11.73605332, 12.25885411,\n       12.08198637, 12.16891735, 11.55868587, 12.08310303, 12.26731119,\n       11.68686337, 12.44253562, 12.07846552, 11.54798454, 12.43457817,\n       11.8788939 , 11.83263064, 12.30918242, 12.61287027, 11.49926052,\n       11.83007256, 12.35133671, 11.63131745, 12.82130523, 11.71517928,\n       11.92614401, 11.62495371, 11.65980936, 12.9051955 , 11.76770161,\n       11.6387145 , 12.12484352, 11.89738019, 12.66860343, 11.9814147 ,\n       12.32452513, 12.17230557, 12.02861415, 11.8541824 , 11.50875815,\n       11.39115334, 11.86342189, 12.70027245, 12.48413517, 12.51519037,\n       12.12541411, 11.63961989, 12.54920539, 11.55862873, 11.94235427,\n       11.66789558, 11.70007041, 11.55582578, 11.38897594, 12.83576076,\n       11.96806389, 12.60930363, 12.55399698, 11.77574876, 11.61220225,\n       11.78502807, 11.58655755, 11.79664076, 11.52739267, 11.95764314,\n       11.73972997, 12.55036462, 12.18706649, 11.97570055, 12.2060185 ,\n       11.90385492, 11.92758205, 11.59745613, 12.45133731, 11.57777478,\n       12.07929965, 12.17195487, 12.12157204, 12.27032895, 12.46932668,\n       11.99786909, 12.29612968, 12.3168637 , 11.85558768, 11.95535069,\n       11.96975006, 11.93404031, 12.380338  , 11.81390807, 11.96244388,\n       11.02040307, 11.57327092, 11.64611754, 11.73038711, 12.32736276,\n       11.65367781, 11.53615346, 11.58112684, 11.8697741 , 12.43690011,\n       11.9553573 , 11.97570055, 12.07963235, 12.00342481, 12.03236533,\n       11.63005629, 12.41294892, 11.63522283, 11.82050899, 12.19023452,\n       12.24892379, 12.60878171, 12.28548108, 11.84915148, 11.28062565,\n       12.76821321, 12.74882697, 11.70834077, 12.26816686, 13.35646627,\n       12.7416435 , 11.69165595, 12.19199767, 11.95739129, 11.83087381,\n       11.71718598, 12.2721862 , 12.23716017, 11.79396744, 11.29266949,\n       11.45275721, 11.94375097, 12.22452367, 11.97671414, 11.4723065 ,\n       11.7401032 , 11.71854772, 11.85432981, 11.31976157, 11.76511788,\n       12.3303342 , 11.81585008, 12.42000543, 11.78080334, 11.70479624,\n       11.66942562, 12.34503143, 12.79118202, 12.90169224, 12.14059533,\n       12.6946349 , 11.38121441, 11.60775093, 12.06780427, 12.63080275,\n       11.7680423 , 11.81950364, 12.2478745 , 11.79175185, 12.04681489,\n       11.91852748, 11.53652038, 11.70866964, 11.88748034, 12.44653265,\n       12.02069312, 12.44426968, 12.26951198, 12.18956455, 11.57981872,\n       11.76471811, 11.67048822, 11.71840436, 11.87389822, 12.13000721,\n       11.97685887, 12.27261912, 11.62043552, 12.36368713, 11.69422233,\n       12.14376095, 12.01546053, 11.76729238, 12.61715538, 12.19741179,\n       11.76544763, 12.41669666, 11.72091944, 11.84863014, 11.70921132,\n       12.45394948, 11.94914885, 11.45730946, 11.94523834, 12.00557165,\n       12.38934097, 12.33113342, 11.90254783, 11.78765209, 11.81303522,\n       11.66022608, 12.28970168, 12.11218217, 11.6508064 , 12.3367042 ,\n       11.77905123, 11.74521499, 11.53422625, 11.98495417, 11.71910847,\n       11.49044155, 12.11241973, 11.76394019, 11.7045902 , 12.40944949,\n       11.84168079, 12.19385067, 11.93697521, 12.27899329, 11.8730927 ,\n       11.71754192, 12.57570893, 12.26858913, 12.9443123 , 12.16231067,\n       11.64137931, 11.99405969, 11.96489801, 11.80360497, 11.58784956,\n       12.03901257, 12.19403755, 11.74411191, 11.59314596, 11.69215071,\n       11.95094855, 11.75857345, 11.70527592, 12.15973131, 12.45547569,\n       12.52280606, 12.02303251, 11.62612692, 12.28105075, 12.51633324,\n       12.28618859, 12.09044032, 11.9814147 , 11.61034854, 12.11096958,\n       12.86416895, 12.26413882, 12.37888126, 11.75417608, 11.53036447,\n       11.8035331 , 12.14603866, 12.66778978, 11.91551694, 11.76826973,\n       12.28007993, 11.60605079, 12.27187542, 11.66487955, 12.52605811,\n       12.04244071, 12.33251081, 11.60026714, 12.30321512, 12.19826869,\n       11.67513589, 11.57496047, 11.81058244, 12.0606823 , 11.35876879,\n       11.93999498, 11.86802627, 11.6891587 , 12.13420638, 11.64677422,\n       12.13519248, 12.30822727, 11.69732746, 11.80908243, 12.16334153,\n       12.08347408, 11.91196193, 12.28275792, 12.18772429, 11.81214437,\n       11.96341128, 12.13124578, 11.57493321, 12.18264421, 11.75598846,\n       12.11553738, 12.17321799, 12.17733573, 12.39642697, 11.38897594,\n       12.26320822, 11.75575096, 11.71779677, 11.46177268, 12.03736864,\n       11.74965498, 11.75982429, 12.20001654, 11.99201464, 11.52768663,\n       11.82862222, 11.8189477 , 11.67640383, 12.19108792, 12.11704407,\n       11.70358754, 11.76813781, 11.50766973, 11.59779381, 12.21013974,\n       12.08500825, 11.88588033, 11.69782261, 12.06695353, 12.35314397,\n       12.83904477, 12.70379576, 11.70084012, 12.24656048, 11.57068383,\n       12.7119138 , 12.78174523, 12.42693448, 11.97624765, 12.42445445,\n       11.81796321, 11.64735471, 11.49638151, 12.30627488, 12.53939895,\n       12.19116759, 11.94451687, 12.4965097 , 12.3004028 , 11.68882294])"
     },
     "execution_count": 10,
     "metadata": {},
     "output_type": "execute_result"
    }
   ],
   "source": [
    "y_pred"
   ],
   "metadata": {
    "collapsed": false,
    "ExecuteTime": {
     "end_time": "2025-02-09T13:59:48.400390Z",
     "start_time": "2025-02-09T13:59:48.393635Z"
    }
   },
   "id": "5b038790c3db79c1",
   "execution_count": 10
  },
  {
   "cell_type": "markdown",
   "source": [
    "## Seeing the Intercept and Coefficient of the model"
   ],
   "metadata": {
    "collapsed": false
   },
   "id": "26952dce32d00262"
  },
  {
   "cell_type": "code",
   "outputs": [
    {
     "data": {
      "text/plain": "11.338511506750512"
     },
     "execution_count": 11,
     "metadata": {},
     "output_type": "execute_result"
    }
   ],
   "source": [
    "regressor.intercept_"
   ],
   "metadata": {
    "collapsed": false,
    "ExecuteTime": {
     "end_time": "2025-02-09T13:59:48.404687Z",
     "start_time": "2025-02-09T13:59:48.400390Z"
    }
   },
   "id": "8db761307033503a",
   "execution_count": 11
  },
  {
   "cell_type": "code",
   "outputs": [
    {
     "data": {
      "text/plain": "array([-1.56512607e-01, -1.90156316e-02, -3.28795813e-02, -1.73622276e-01,\n       -5.86552050e-02, -1.23738958e-01, -2.43733265e-01, -8.33628791e-02,\n       -1.55815266e-01, -2.80019455e-01, -5.71414820e-03, -1.00608636e-01,\n       -1.78742627e-01,  8.45515947e-02,  2.21851431e-04,  2.58326969e-04])"
     },
     "execution_count": 12,
     "metadata": {},
     "output_type": "execute_result"
    }
   ],
   "source": [
    "regressor.coef_.T"
   ],
   "metadata": {
    "collapsed": false,
    "ExecuteTime": {
     "end_time": "2025-02-09T13:59:48.408789Z",
     "start_time": "2025-02-09T13:59:48.404687Z"
    }
   },
   "id": "e42fcc36e7475268",
   "execution_count": 12
  },
  {
   "cell_type": "markdown",
   "source": [
    "### making dataframe to showing it better"
   ],
   "metadata": {
    "collapsed": false
   },
   "id": "37dd2f65202777e4"
  },
  {
   "cell_type": "code",
   "outputs": [],
   "source": [
    "feature_names=x.columns"
   ],
   "metadata": {
    "collapsed": false,
    "ExecuteTime": {
     "end_time": "2025-02-09T13:59:48.412652Z",
     "start_time": "2025-02-09T13:59:48.408789Z"
    }
   },
   "id": "d2638edbe31df0cc",
   "execution_count": 13
  },
  {
   "cell_type": "code",
   "outputs": [
    {
     "data": {
      "text/plain": "            Feature Names  Coefficient\n0            ExterQual_Fa    -0.156513\n1            ExterQual_Gd    -0.019016\n2            ExterQual_TA    -0.032880\n3          KitchenQual_Fa    -0.173622\n4          KitchenQual_Gd    -0.058655\n5          KitchenQual_TA    -0.123739\n6             BsmtQual_Fa    -0.243733\n7             BsmtQual_Gd    -0.083363\n8             BsmtQual_TA    -0.155815\n9     BsmtQual_noBasement    -0.280019\n10       GarageFinish_RFn    -0.005714\n11       GarageFinish_Unf    -0.100609\n12  GarageFinish_noGarage    -0.178743\n13            OverallQual     0.084552\n14              GrLivArea     0.000222\n15             GarageArea     0.000258",
      "text/html": "<div>\n<style scoped>\n    .dataframe tbody tr th:only-of-type {\n        vertical-align: middle;\n    }\n\n    .dataframe tbody tr th {\n        vertical-align: top;\n    }\n\n    .dataframe thead th {\n        text-align: right;\n    }\n</style>\n<table border=\"1\" class=\"dataframe\">\n  <thead>\n    <tr style=\"text-align: right;\">\n      <th></th>\n      <th>Feature Names</th>\n      <th>Coefficient</th>\n    </tr>\n  </thead>\n  <tbody>\n    <tr>\n      <th>0</th>\n      <td>ExterQual_Fa</td>\n      <td>-0.156513</td>\n    </tr>\n    <tr>\n      <th>1</th>\n      <td>ExterQual_Gd</td>\n      <td>-0.019016</td>\n    </tr>\n    <tr>\n      <th>2</th>\n      <td>ExterQual_TA</td>\n      <td>-0.032880</td>\n    </tr>\n    <tr>\n      <th>3</th>\n      <td>KitchenQual_Fa</td>\n      <td>-0.173622</td>\n    </tr>\n    <tr>\n      <th>4</th>\n      <td>KitchenQual_Gd</td>\n      <td>-0.058655</td>\n    </tr>\n    <tr>\n      <th>5</th>\n      <td>KitchenQual_TA</td>\n      <td>-0.123739</td>\n    </tr>\n    <tr>\n      <th>6</th>\n      <td>BsmtQual_Fa</td>\n      <td>-0.243733</td>\n    </tr>\n    <tr>\n      <th>7</th>\n      <td>BsmtQual_Gd</td>\n      <td>-0.083363</td>\n    </tr>\n    <tr>\n      <th>8</th>\n      <td>BsmtQual_TA</td>\n      <td>-0.155815</td>\n    </tr>\n    <tr>\n      <th>9</th>\n      <td>BsmtQual_noBasement</td>\n      <td>-0.280019</td>\n    </tr>\n    <tr>\n      <th>10</th>\n      <td>GarageFinish_RFn</td>\n      <td>-0.005714</td>\n    </tr>\n    <tr>\n      <th>11</th>\n      <td>GarageFinish_Unf</td>\n      <td>-0.100609</td>\n    </tr>\n    <tr>\n      <th>12</th>\n      <td>GarageFinish_noGarage</td>\n      <td>-0.178743</td>\n    </tr>\n    <tr>\n      <th>13</th>\n      <td>OverallQual</td>\n      <td>0.084552</td>\n    </tr>\n    <tr>\n      <th>14</th>\n      <td>GrLivArea</td>\n      <td>0.000222</td>\n    </tr>\n    <tr>\n      <th>15</th>\n      <td>GarageArea</td>\n      <td>0.000258</td>\n    </tr>\n  </tbody>\n</table>\n</div>"
     },
     "execution_count": 14,
     "metadata": {},
     "output_type": "execute_result"
    }
   ],
   "source": [
    "coef_table=pd.DataFrame(feature_names,columns=['Feature Names'])\n",
    "coef_table['Coefficient']=regressor.coef_.T\n",
    "coef_table"
   ],
   "metadata": {
    "collapsed": false,
    "ExecuteTime": {
     "end_time": "2025-02-09T13:59:48.420117Z",
     "start_time": "2025-02-09T13:59:48.412652Z"
    }
   },
   "id": "8773bba389e37ad7",
   "execution_count": 14
  },
  {
   "cell_type": "code",
   "outputs": [
    {
     "data": {
      "text/plain": "['ExterQual_Fa',\n 'ExterQual_Gd',\n 'ExterQual_TA',\n 'KitchenQual_Fa',\n 'KitchenQual_Gd',\n 'KitchenQual_TA',\n 'BsmtQual_Fa',\n 'BsmtQual_Gd',\n 'BsmtQual_TA',\n 'BsmtQual_noBasement',\n 'GarageFinish_RFn',\n 'GarageFinish_Unf',\n 'GarageFinish_noGarage',\n 'OverallQual',\n 'GrLivArea',\n 'GarageArea']"
     },
     "execution_count": 15,
     "metadata": {},
     "output_type": "execute_result"
    }
   ],
   "source": [
    "list(coef_table['Feature Names'])"
   ],
   "metadata": {
    "collapsed": false,
    "ExecuteTime": {
     "end_time": "2025-02-09T13:59:48.424700Z",
     "start_time": "2025-02-09T13:59:48.420117Z"
    }
   },
   "id": "d99de06d8ad2c252",
   "execution_count": 15
  },
  {
   "cell_type": "markdown",
   "source": [
    "## mean_square error"
   ],
   "metadata": {
    "collapsed": false
   },
   "id": "c0ab118f246b94df"
  },
  {
   "cell_type": "code",
   "outputs": [
    {
     "name": "stdout",
     "output_type": "stream",
     "text": [
      "Mean Squared Error: 0.029322627971038136\n"
     ]
    }
   ],
   "source": [
    "from sklearn.metrics import mean_squared_error\n",
    "mse = mean_squared_error(y_test, y_pred)\n",
    "print(f\"Mean Squared Error: {mse}\")"
   ],
   "metadata": {
    "collapsed": false,
    "ExecuteTime": {
     "end_time": "2025-02-09T13:59:48.430443Z",
     "start_time": "2025-02-09T13:59:48.424700Z"
    }
   },
   "id": "601907601106afb8",
   "execution_count": 16
  },
  {
   "cell_type": "markdown",
   "source": [
    "## R2 Score"
   ],
   "metadata": {
    "collapsed": false
   },
   "id": "9e2ae555ae4b3b54"
  },
  {
   "cell_type": "code",
   "outputs": [
    {
     "name": "stdout",
     "output_type": "stream",
     "text": [
      "R-squared: 0.8306588125579762\n"
     ]
    }
   ],
   "source": [
    "from sklearn.metrics import r2_score\n",
    "r2 = r2_score(y_test, y_pred)\n",
    "print(f\"R-squared: {r2}\")"
   ],
   "metadata": {
    "collapsed": false,
    "ExecuteTime": {
     "end_time": "2025-02-09T13:59:48.434348Z",
     "start_time": "2025-02-09T13:59:48.431442Z"
    }
   },
   "id": "b763af8c19bc4aab",
   "execution_count": 17
  },
  {
   "cell_type": "markdown",
   "source": [],
   "metadata": {
    "collapsed": false
   },
   "id": "3cd0c391a9b6dcca"
  },
  {
   "cell_type": "markdown",
   "source": [
    "# Saving the trained model"
   ],
   "metadata": {
    "collapsed": false
   },
   "id": "79fb308cf5a3c22d"
  },
  {
   "cell_type": "code",
   "outputs": [
    {
     "data": {
      "text/plain": "['house_price_model.pkl']"
     },
     "execution_count": 18,
     "metadata": {},
     "output_type": "execute_result"
    }
   ],
   "source": [
    "import joblib\n",
    "joblib.dump(regressor, \"house_price_model.pkl\")"
   ],
   "metadata": {
    "collapsed": false,
    "ExecuteTime": {
     "end_time": "2025-02-09T13:59:48.439717Z",
     "start_time": "2025-02-09T13:59:48.434348Z"
    }
   },
   "id": "499bbee5a67ac284",
   "execution_count": 18
  },
  {
   "cell_type": "code",
   "outputs": [],
   "source": [
    "# import pyodbc\n",
    "# import pandas as pd\n",
    "# import joblib\n",
    "# from sklearn.model_selection import train_test_split\n",
    "# import numpy as np\n",
    "# # Load dataset\n",
    "# df = pd.read_csv(r\"C:\\Users\\Amirmahdi\\Desktop\\Data Analyst Projects (Python)\\Kaggle projects\\House Prices - Advanced Regression Techniques\\Sql\\Data set\\via_dummy.csv\")\n",
    "# \n",
    "# # Define features and target\n",
    "# features = ['ExterQual_Fa',\n",
    "#  'ExterQual_Gd',\n",
    "#  'ExterQual_TA',\n",
    "#  'KitchenQual_Fa',\n",
    "#  'KitchenQual_Gd',\n",
    "#  'KitchenQual_TA',\n",
    "#  'BsmtQual_Fa',\n",
    "#  'BsmtQual_Gd',\n",
    "#  'BsmtQual_TA',\n",
    "#  'BsmtQual_noBasement',\n",
    "#  'GarageFinish_RFn',\n",
    "#  'GarageFinish_Unf',\n",
    "#  'GarageFinish_noGarage',\n",
    "#  'OverallQual',\n",
    "#  'GrLivArea',\n",
    "#  'GarageArea']\n",
    "# \n",
    "# X = df[features]\n",
    "# y = df[\"SalePrice-noSkew\"]\n",
    "# \n",
    "# # Split data into 75% train and 25% test\n",
    "# X_train, X_test, y_train, y_test = train_test_split(X, y, test_size=0.25, random_state=42)\n",
    "# \n",
    "# # Load trained model\n",
    "# model = joblib.load(\"house_price_model.pkl\")\n",
    "# \n",
    "# # Predict on test data (25%)\n",
    "# y_pred = model.predict(X_test)\n",
    "# \n",
    "# # Create a DataFrame for SQL insertion\n",
    "# df_predictions = X_test.copy()\n",
    "# df_predictions[\"ActualSalePrice-log\"] = y_test.values\n",
    "# df_predictions[\"PredictedSalePrice-log\"] = y_pred\n",
    "# df_predictions[\"ActualSalePrice\"] = np.expm1(y_test.values)\n",
    "# df_predictions[\"PredictedSalePrice\"] = np.expm1(y_pred)"
   ],
   "metadata": {
    "collapsed": false,
    "ExecuteTime": {
     "end_time": "2025-02-09T13:59:48.443290Z",
     "start_time": "2025-02-09T13:59:48.440717Z"
    }
   },
   "id": "c5c2c7d409bf98fc",
   "execution_count": 19
  },
  {
   "cell_type": "code",
   "outputs": [],
   "source": [
    "# df_predictions"
   ],
   "metadata": {
    "collapsed": false,
    "ExecuteTime": {
     "end_time": "2025-02-09T13:59:48.447001Z",
     "start_time": "2025-02-09T13:59:48.444290Z"
    }
   },
   "id": "7fa3aaa7e950b6ae",
   "execution_count": 20
  },
  {
   "cell_type": "code",
   "outputs": [],
   "source": [
    "# from sqlalchemy import create_engine\n",
    "# # Define SQL Server credentials\n",
    "# server = \"DESKTOP-AUGJOSS\"\n",
    "# database = \"HousePricePrediction\"\n",
    "# username = \"sa\"\n",
    "# password = \"1234\"\n",
    "# engine = create_engine(f\"mssql+pyodbc://{username}:{password}@{server}/{database}?driver=ODBC+Driver+17+for+SQL+Server\")\n",
    "# df_predictions.to_sql(\"df_prediction\", con=engine, if_exists=\"replace\", index=False)"
   ],
   "metadata": {
    "collapsed": false,
    "ExecuteTime": {
     "end_time": "2025-02-09T13:59:48.450898Z",
     "start_time": "2025-02-09T13:59:48.447001Z"
    }
   },
   "id": "a6347b8fe0c0a8c7",
   "execution_count": 21
  },
  {
   "cell_type": "code",
   "outputs": [],
   "source": [
    "# coef_table.sort_values('Coefficient',inplace=True)"
   ],
   "metadata": {
    "collapsed": false,
    "ExecuteTime": {
     "end_time": "2025-02-09T13:59:48.455345Z",
     "start_time": "2025-02-09T13:59:48.450898Z"
    }
   },
   "id": "c313edb7e7c4ed4d",
   "execution_count": 22
  },
  {
   "cell_type": "code",
   "outputs": [],
   "source": [
    "# from sqlalchemy import create_engine\n",
    "# # Define SQL Server credentials\n",
    "# server = \"DESKTOP-AUGJOSS\"\n",
    "# database = \"HousePricePrediction\"\n",
    "# username = \"sa\"\n",
    "# password = \"1234\"\n",
    "# engine = create_engine(f\"mssql+pyodbc://{username}:{password}@{server}/{database}?driver=ODBC+Driver+17+for+SQL+Server\")\n",
    "# coef_table.to_sql(\"coefficient_of_features\", con=engine, if_exists=\"replace\", index=False)"
   ],
   "metadata": {
    "collapsed": false,
    "ExecuteTime": {
     "end_time": "2025-02-09T13:59:48.459169Z",
     "start_time": "2025-02-09T13:59:48.455345Z"
    }
   },
   "id": "a477fc0270dca996",
   "execution_count": 23
  }
 ],
 "metadata": {
  "kernelspec": {
   "display_name": "Python 3",
   "language": "python",
   "name": "python3"
  },
  "language_info": {
   "codemirror_mode": {
    "name": "ipython",
    "version": 2
   },
   "file_extension": ".py",
   "mimetype": "text/x-python",
   "name": "python",
   "nbconvert_exporter": "python",
   "pygments_lexer": "ipython2",
   "version": "2.7.6"
  }
 },
 "nbformat": 4,
 "nbformat_minor": 5
}
